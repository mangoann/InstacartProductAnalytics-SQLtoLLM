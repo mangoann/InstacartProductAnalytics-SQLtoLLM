{
 "cells": [
  {
   "cell_type": "markdown",
   "id": "9b9f0c3a",
   "metadata": {},
   "source": [
    "## Source Tables at a Glance"
   ]
  },
  {
   "cell_type": "code",
   "execution_count": 55,
   "id": "8b0aaeca",
   "metadata": {},
   "outputs": [],
   "source": [
    "import numpy as np\n",
    "import pandas as pd"
   ]
  },
  {
   "cell_type": "markdown",
   "id": "e4d9da3f",
   "metadata": {},
   "source": [
    "### Orders.csv"
   ]
  },
  {
   "cell_type": "code",
   "execution_count": 56,
   "id": "d1978f3c",
   "metadata": {},
   "outputs": [
    {
     "name": "stdout",
     "output_type": "stream",
     "text": [
      "<class 'pandas.core.frame.DataFrame'>\n",
      "RangeIndex: 3421083 entries, 0 to 3421082\n",
      "Data columns (total 7 columns):\n",
      " #   Column                  Dtype  \n",
      "---  ------                  -----  \n",
      " 0   order_id                int64  \n",
      " 1   user_id                 int64  \n",
      " 2   eval_set                object \n",
      " 3   order_number            int64  \n",
      " 4   order_dow               int64  \n",
      " 5   order_hour_of_day       int64  \n",
      " 6   days_since_prior_order  float64\n",
      "dtypes: float64(1), int64(5), object(1)\n",
      "memory usage: 182.7+ MB\n"
     ]
    }
   ],
   "source": [
    "orders = pd.read_csv(\"/Users/leanhe/Desktop/Github/InstacartAnalysis/Data/orders.csv\")\n",
    "orders.info()"
   ]
  },
  {
   "cell_type": "markdown",
   "id": "bdc13460",
   "metadata": {},
   "source": [
    "#### Null Values"
   ]
  },
  {
   "cell_type": "code",
   "execution_count": 57,
   "id": "2f5fdff5",
   "metadata": {},
   "outputs": [
    {
     "data": {
      "text/plain": [
       "order_id                       0\n",
       "user_id                        0\n",
       "eval_set                       0\n",
       "order_number                   0\n",
       "order_dow                      0\n",
       "order_hour_of_day              0\n",
       "days_since_prior_order    206209\n",
       "dtype: int64"
      ]
     },
     "execution_count": 57,
     "metadata": {},
     "output_type": "execute_result"
    }
   ],
   "source": [
    "null_rows_o = orders[orders.isna().any(axis=1)].copy()\n",
    "null_rows_o.isna().sum()"
   ]
  },
  {
   "cell_type": "markdown",
   "id": "9892ef05",
   "metadata": {},
   "source": [
    "#### Unique Counts"
   ]
  },
  {
   "cell_type": "code",
   "execution_count": 58,
   "id": "15863e53",
   "metadata": {},
   "outputs": [
    {
     "name": "stdout",
     "output_type": "stream",
     "text": [
      "3421083\n",
      "206209\n"
     ]
    }
   ],
   "source": [
    "print(orders[\"order_id\"].nunique())\n",
    "print(orders[\"user_id\"].nunique())"
   ]
  },
  {
   "cell_type": "code",
   "execution_count": 59,
   "id": "83cc17aa",
   "metadata": {},
   "outputs": [
    {
     "data": {
      "text/html": [
       "<div>\n",
       "<style scoped>\n",
       "    .dataframe tbody tr th:only-of-type {\n",
       "        vertical-align: middle;\n",
       "    }\n",
       "\n",
       "    .dataframe tbody tr th {\n",
       "        vertical-align: top;\n",
       "    }\n",
       "\n",
       "    .dataframe thead th {\n",
       "        text-align: right;\n",
       "    }\n",
       "</style>\n",
       "<table border=\"1\" class=\"dataframe\">\n",
       "  <thead>\n",
       "    <tr style=\"text-align: right;\">\n",
       "      <th></th>\n",
       "      <th>order_id</th>\n",
       "      <th>user_id</th>\n",
       "      <th>eval_set</th>\n",
       "      <th>order_number</th>\n",
       "      <th>order_dow</th>\n",
       "      <th>order_hour_of_day</th>\n",
       "      <th>days_since_prior_order</th>\n",
       "    </tr>\n",
       "  </thead>\n",
       "  <tbody>\n",
       "    <tr>\n",
       "      <th>0</th>\n",
       "      <td>2539329</td>\n",
       "      <td>1</td>\n",
       "      <td>prior</td>\n",
       "      <td>1</td>\n",
       "      <td>2</td>\n",
       "      <td>8</td>\n",
       "      <td>NaN</td>\n",
       "    </tr>\n",
       "    <tr>\n",
       "      <th>1</th>\n",
       "      <td>2398795</td>\n",
       "      <td>1</td>\n",
       "      <td>prior</td>\n",
       "      <td>2</td>\n",
       "      <td>3</td>\n",
       "      <td>7</td>\n",
       "      <td>15.0</td>\n",
       "    </tr>\n",
       "    <tr>\n",
       "      <th>2</th>\n",
       "      <td>473747</td>\n",
       "      <td>1</td>\n",
       "      <td>prior</td>\n",
       "      <td>3</td>\n",
       "      <td>3</td>\n",
       "      <td>12</td>\n",
       "      <td>21.0</td>\n",
       "    </tr>\n",
       "    <tr>\n",
       "      <th>3</th>\n",
       "      <td>2254736</td>\n",
       "      <td>1</td>\n",
       "      <td>prior</td>\n",
       "      <td>4</td>\n",
       "      <td>4</td>\n",
       "      <td>7</td>\n",
       "      <td>29.0</td>\n",
       "    </tr>\n",
       "    <tr>\n",
       "      <th>4</th>\n",
       "      <td>431534</td>\n",
       "      <td>1</td>\n",
       "      <td>prior</td>\n",
       "      <td>5</td>\n",
       "      <td>4</td>\n",
       "      <td>15</td>\n",
       "      <td>28.0</td>\n",
       "    </tr>\n",
       "  </tbody>\n",
       "</table>\n",
       "</div>"
      ],
      "text/plain": [
       "   order_id  user_id eval_set  order_number  order_dow  order_hour_of_day  \\\n",
       "0   2539329        1    prior             1          2                  8   \n",
       "1   2398795        1    prior             2          3                  7   \n",
       "2    473747        1    prior             3          3                 12   \n",
       "3   2254736        1    prior             4          4                  7   \n",
       "4    431534        1    prior             5          4                 15   \n",
       "\n",
       "   days_since_prior_order  \n",
       "0                     NaN  \n",
       "1                    15.0  \n",
       "2                    21.0  \n",
       "3                    29.0  \n",
       "4                    28.0  "
      ]
     },
     "execution_count": 59,
     "metadata": {},
     "output_type": "execute_result"
    }
   ],
   "source": [
    "orders.head()"
   ]
  },
  {
   "cell_type": "markdown",
   "id": "ef8cc13e",
   "metadata": {},
   "source": [
    "### Products.csv"
   ]
  },
  {
   "cell_type": "code",
   "execution_count": 60,
   "id": "b93dd034",
   "metadata": {},
   "outputs": [
    {
     "name": "stdout",
     "output_type": "stream",
     "text": [
      "<class 'pandas.core.frame.DataFrame'>\n",
      "RangeIndex: 49688 entries, 0 to 49687\n",
      "Data columns (total 4 columns):\n",
      " #   Column         Non-Null Count  Dtype \n",
      "---  ------         --------------  ----- \n",
      " 0   product_id     49688 non-null  int64 \n",
      " 1   product_name   49688 non-null  object\n",
      " 2   aisle_id       49688 non-null  int64 \n",
      " 3   department_id  49688 non-null  int64 \n",
      "dtypes: int64(3), object(1)\n",
      "memory usage: 1.5+ MB\n"
     ]
    }
   ],
   "source": [
    "products = pd.read_csv(\"/Users/leanhe/Desktop/Github/InstacartAnalysis/Data/products.csv\")\n",
    "products.info()"
   ]
  },
  {
   "cell_type": "markdown",
   "id": "86f29102",
   "metadata": {},
   "source": [
    "#### Null Values"
   ]
  },
  {
   "cell_type": "code",
   "execution_count": 61,
   "id": "5f9a40f8",
   "metadata": {},
   "outputs": [
    {
     "data": {
      "text/plain": [
       "product_id       0.0\n",
       "product_name     0.0\n",
       "aisle_id         0.0\n",
       "department_id    0.0\n",
       "dtype: float64"
      ]
     },
     "execution_count": 61,
     "metadata": {},
     "output_type": "execute_result"
    }
   ],
   "source": [
    "null_rows_p = products[products.isna().any(axis=1)].copy()\n",
    "null_rows_p.isna().sum()"
   ]
  },
  {
   "cell_type": "markdown",
   "id": "a67d1845",
   "metadata": {},
   "source": [
    "### Aisles.csv"
   ]
  },
  {
   "cell_type": "code",
   "execution_count": 7,
   "id": "6afae826",
   "metadata": {},
   "outputs": [
    {
     "name": "stdout",
     "output_type": "stream",
     "text": [
      "<class 'pandas.core.frame.DataFrame'>\n",
      "RangeIndex: 134 entries, 0 to 133\n",
      "Data columns (total 2 columns):\n",
      " #   Column    Non-Null Count  Dtype \n",
      "---  ------    --------------  ----- \n",
      " 0   aisle_id  134 non-null    int64 \n",
      " 1   aisle     134 non-null    object\n",
      "dtypes: int64(1), object(1)\n",
      "memory usage: 2.2+ KB\n"
     ]
    }
   ],
   "source": [
    "aisles = pd.read_csv(\"/Users/leanhe/Desktop/Github/InstacartAnalysis/Data/aisles.csv\")\n",
    "aisles.info()"
   ]
  },
  {
   "cell_type": "markdown",
   "id": "65776c48",
   "metadata": {},
   "source": [
    "#### Null Values"
   ]
  },
  {
   "cell_type": "code",
   "execution_count": 62,
   "id": "3a81bee6",
   "metadata": {},
   "outputs": [
    {
     "data": {
      "text/plain": [
       "aisle_id    0.0\n",
       "aisle       0.0\n",
       "dtype: float64"
      ]
     },
     "execution_count": 62,
     "metadata": {},
     "output_type": "execute_result"
    }
   ],
   "source": [
    "null_rows_a = aisles[aisles.isna().any(axis=1)].copy()\n",
    "null_rows_a.isna().sum()"
   ]
  },
  {
   "cell_type": "markdown",
   "id": "0f119ca1",
   "metadata": {},
   "source": [
    "### Departments.csv"
   ]
  },
  {
   "cell_type": "code",
   "execution_count": 63,
   "id": "898ab3ca",
   "metadata": {},
   "outputs": [
    {
     "name": "stdout",
     "output_type": "stream",
     "text": [
      "<class 'pandas.core.frame.DataFrame'>\n",
      "RangeIndex: 21 entries, 0 to 20\n",
      "Data columns (total 2 columns):\n",
      " #   Column         Non-Null Count  Dtype \n",
      "---  ------         --------------  ----- \n",
      " 0   department_id  21 non-null     int64 \n",
      " 1   department     21 non-null     object\n",
      "dtypes: int64(1), object(1)\n",
      "memory usage: 464.0+ bytes\n"
     ]
    }
   ],
   "source": [
    "departments = pd.read_csv(\"/Users/leanhe/Desktop/Github/InstacartAnalysis/Data/departments.csv\")\n",
    "departments.info()"
   ]
  },
  {
   "cell_type": "markdown",
   "id": "327d28ad",
   "metadata": {},
   "source": [
    "#### Null Values"
   ]
  },
  {
   "cell_type": "code",
   "execution_count": 64,
   "id": "38e535db",
   "metadata": {},
   "outputs": [
    {
     "data": {
      "text/plain": [
       "department_id    0.0\n",
       "department       0.0\n",
       "dtype: float64"
      ]
     },
     "execution_count": 64,
     "metadata": {},
     "output_type": "execute_result"
    }
   ],
   "source": [
    "null_rows_d = departments[departments.isna().any(axis=1)].copy()\n",
    "null_rows_d.isna().sum()"
   ]
  },
  {
   "cell_type": "markdown",
   "id": "21b34dd1",
   "metadata": {},
   "source": [
    "### Order_products.csv"
   ]
  },
  {
   "cell_type": "code",
   "execution_count": 65,
   "id": "ec7f0ac0",
   "metadata": {},
   "outputs": [
    {
     "name": "stdout",
     "output_type": "stream",
     "text": [
      "<class 'pandas.core.frame.DataFrame'>\n",
      "RangeIndex: 32434489 entries, 0 to 32434488\n",
      "Data columns (total 4 columns):\n",
      " #   Column             Dtype\n",
      "---  ------             -----\n",
      " 0   order_id           int64\n",
      " 1   product_id         int64\n",
      " 2   add_to_cart_order  int64\n",
      " 3   reordered          int64\n",
      "dtypes: int64(4)\n",
      "memory usage: 989.8 MB\n"
     ]
    }
   ],
   "source": [
    "order_products = pd.read_csv(\"/Users/leanhe/Desktop/Github/InstacartAnalysis/Data/order_products.csv\")\n",
    "order_products.info()"
   ]
  },
  {
   "cell_type": "markdown",
   "id": "5adb6249",
   "metadata": {},
   "source": [
    "#### Null Values"
   ]
  },
  {
   "cell_type": "code",
   "execution_count": 66,
   "id": "1a37efc6",
   "metadata": {},
   "outputs": [
    {
     "data": {
      "text/plain": [
       "order_id             0.0\n",
       "product_id           0.0\n",
       "add_to_cart_order    0.0\n",
       "reordered            0.0\n",
       "dtype: float64"
      ]
     },
     "execution_count": 66,
     "metadata": {},
     "output_type": "execute_result"
    }
   ],
   "source": [
    "null_rows_op = order_products[order_products.isna().any(axis=1)].copy()\n",
    "null_rows_op.isna().sum()"
   ]
  },
  {
   "cell_type": "markdown",
   "id": "54244c20",
   "metadata": {},
   "source": [
    "## Final Table Preparation"
   ]
  },
  {
   "cell_type": "code",
   "execution_count": 29,
   "id": "214783d8",
   "metadata": {},
   "outputs": [],
   "source": [
    "import duckdb\n",
    "\n",
    "# Connect to an in-memory DuckDB instance\n",
    "con = duckdb.connect()"
   ]
  },
  {
   "cell_type": "code",
   "execution_count": 31,
   "id": "6932413c",
   "metadata": {},
   "outputs": [
    {
     "data": {
      "text/plain": [
       "<duckdb.duckdb.DuckDBPyConnection at 0x7fc098740330>"
      ]
     },
     "execution_count": 31,
     "metadata": {},
     "output_type": "execute_result"
    }
   ],
   "source": [
    "con.register(\"orders\", orders)\n",
    "con.register(\"order_products\", order_products)\n",
    "con.register(\"products\", products)\n",
    "con.register(\"aisles\", aisles)\n",
    "con.register(\"departments\", departments)"
   ]
  },
  {
   "cell_type": "code",
   "execution_count": 68,
   "id": "6bb6b51c",
   "metadata": {},
   "outputs": [
    {
     "data": {
      "application/vnd.jupyter.widget-view+json": {
       "model_id": "6ca59474dc13475f85ee05ed4b349754",
       "version_major": 2,
       "version_minor": 0
      },
      "text/plain": [
       "FloatProgress(value=0.0, layout=Layout(width='auto'), style=ProgressStyle(bar_color='black'))"
      ]
     },
     "metadata": {},
     "output_type": "display_data"
    }
   ],
   "source": [
    "metadata = con.execute(\"\"\"\n",
    "\n",
    "SELECT\n",
    "    op.product_id\n",
    ",   p.product_name\n",
    ",   op.order_id\n",
    ",   o.user_id\n",
    ",   p.aisle_id\n",
    ",   p.department_id\n",
    ",   op.reordered\n",
    ",   o.order_dow\n",
    "\n",
    "FROM order_products op\n",
    "JOIN products p ON op.product_id = p.product_id\n",
    "JOIN orders o ON op.order_id = o.order_id\n",
    "\n",
    "\"\"\").fetchdf()"
   ]
  },
  {
   "cell_type": "code",
   "execution_count": 73,
   "id": "f92518e9",
   "metadata": {},
   "outputs": [
    {
     "data": {
      "application/vnd.jupyter.widget-view+json": {
       "model_id": "ae005c51f51443aaabb6462131053a81",
       "version_major": 2,
       "version_minor": 0
      },
      "text/plain": [
       "FloatProgress(value=0.0, layout=Layout(width='auto'), style=ProgressStyle(bar_color='black'))"
      ]
     },
     "metadata": {},
     "output_type": "display_data"
    }
   ],
   "source": [
    "count_df = con.execute(\"\"\"\n",
    "\n",
    "SELECT\n",
    "    product_id\n",
    ",   product_name\n",
    ",   COUNT(DISTINCT order_id) as total_order_count\n",
    ",   COUNT(DISTINCT user_id) as unique_user_count\n",
    "FROM metadata\n",
    "GROUP BY 1,2\n",
    "ORDER BY 3 DESC, 4 DESC\n",
    "\n",
    "\"\"\").fetchdf()"
   ]
  },
  {
   "cell_type": "code",
   "execution_count": 74,
   "id": "f227c251",
   "metadata": {},
   "outputs": [
    {
     "data": {
      "text/html": [
       "<div>\n",
       "<style scoped>\n",
       "    .dataframe tbody tr th:only-of-type {\n",
       "        vertical-align: middle;\n",
       "    }\n",
       "\n",
       "    .dataframe tbody tr th {\n",
       "        vertical-align: top;\n",
       "    }\n",
       "\n",
       "    .dataframe thead th {\n",
       "        text-align: right;\n",
       "    }\n",
       "</style>\n",
       "<table border=\"1\" class=\"dataframe\">\n",
       "  <thead>\n",
       "    <tr style=\"text-align: right;\">\n",
       "      <th></th>\n",
       "      <th>product_id</th>\n",
       "      <th>product_name</th>\n",
       "      <th>total_order_count</th>\n",
       "      <th>unique_user_count</th>\n",
       "    </tr>\n",
       "  </thead>\n",
       "  <tbody>\n",
       "    <tr>\n",
       "      <th>0</th>\n",
       "      <td>24852</td>\n",
       "      <td>Banana</td>\n",
       "      <td>472565</td>\n",
       "      <td>73956</td>\n",
       "    </tr>\n",
       "    <tr>\n",
       "      <th>1</th>\n",
       "      <td>13176</td>\n",
       "      <td>Bag of Organic Bananas</td>\n",
       "      <td>379450</td>\n",
       "      <td>63537</td>\n",
       "    </tr>\n",
       "    <tr>\n",
       "      <th>2</th>\n",
       "      <td>21137</td>\n",
       "      <td>Organic Strawberries</td>\n",
       "      <td>264683</td>\n",
       "      <td>58838</td>\n",
       "    </tr>\n",
       "    <tr>\n",
       "      <th>3</th>\n",
       "      <td>21903</td>\n",
       "      <td>Organic Baby Spinach</td>\n",
       "      <td>241921</td>\n",
       "      <td>55037</td>\n",
       "    </tr>\n",
       "    <tr>\n",
       "      <th>4</th>\n",
       "      <td>47209</td>\n",
       "      <td>Organic Hass Avocado</td>\n",
       "      <td>213584</td>\n",
       "      <td>43453</td>\n",
       "    </tr>\n",
       "    <tr>\n",
       "      <th>5</th>\n",
       "      <td>47766</td>\n",
       "      <td>Organic Avocado</td>\n",
       "      <td>176815</td>\n",
       "      <td>42771</td>\n",
       "    </tr>\n",
       "    <tr>\n",
       "      <th>6</th>\n",
       "      <td>47626</td>\n",
       "      <td>Large Lemon</td>\n",
       "      <td>152657</td>\n",
       "      <td>46402</td>\n",
       "    </tr>\n",
       "    <tr>\n",
       "      <th>7</th>\n",
       "      <td>16797</td>\n",
       "      <td>Strawberries</td>\n",
       "      <td>142951</td>\n",
       "      <td>43149</td>\n",
       "    </tr>\n",
       "    <tr>\n",
       "      <th>8</th>\n",
       "      <td>26209</td>\n",
       "      <td>Limes</td>\n",
       "      <td>140627</td>\n",
       "      <td>44859</td>\n",
       "    </tr>\n",
       "    <tr>\n",
       "      <th>9</th>\n",
       "      <td>27845</td>\n",
       "      <td>Organic Whole Milk</td>\n",
       "      <td>137905</td>\n",
       "      <td>23395</td>\n",
       "    </tr>\n",
       "  </tbody>\n",
       "</table>\n",
       "</div>"
      ],
      "text/plain": [
       "   product_id            product_name  total_order_count  unique_user_count\n",
       "0       24852                  Banana             472565              73956\n",
       "1       13176  Bag of Organic Bananas             379450              63537\n",
       "2       21137    Organic Strawberries             264683              58838\n",
       "3       21903    Organic Baby Spinach             241921              55037\n",
       "4       47209    Organic Hass Avocado             213584              43453\n",
       "5       47766         Organic Avocado             176815              42771\n",
       "6       47626             Large Lemon             152657              46402\n",
       "7       16797            Strawberries             142951              43149\n",
       "8       26209                   Limes             140627              44859\n",
       "9       27845      Organic Whole Milk             137905              23395"
      ]
     },
     "execution_count": 74,
     "metadata": {},
     "output_type": "execute_result"
    }
   ],
   "source": [
    "count_df.head(10)"
   ]
  },
  {
   "cell_type": "markdown",
   "id": "359fc20a",
   "metadata": {},
   "source": [
    "### Pareto Principle Analysis"
   ]
  },
  {
   "cell_type": "code",
   "execution_count": 84,
   "id": "cb19ae00",
   "metadata": {},
   "outputs": [],
   "source": [
    "query = \"\"\"\n",
    "\n",
    "WITH base AS(\n",
    "    SELECT\n",
    "        product_id\n",
    "    ,   product_name\n",
    "    ,   total_order_count\n",
    "    ,   unique_user_count\n",
    "    ,   SUM(total_order_count) OVER () AS total_orders\n",
    "    ,   SUM(unique_user_count) OVER () AS total_users\n",
    "    FROM count_df\n",
    "),\n",
    "\n",
    "ranked AS(\n",
    "    SELECT\n",
    "        product_id\n",
    "    ,   product_name\n",
    "    ,   total_order_count\n",
    "    ,   total_orders\n",
    "    ,   unique_user_count\n",
    "    ,   total_users\n",
    "    ,   SUM(total_order_count) OVER (ORDER BY total_order_count DESC) AS cumulative_orders\n",
    "    ,   SUM(unique_user_count) OVER (ORDER BY unique_user_count DESC) AS cumulative_users\n",
    "    FROM base\n",
    ")\n",
    "\n",
    "\n",
    "    SELECT \n",
    "        product_id\n",
    "    ,   product_name\n",
    "    ,   total_order_count\n",
    "    ,   total_orders\n",
    "    ,   total_users\n",
    "    ,   cumulative_orders\n",
    "    ,   cumulative_users\n",
    "    ,   ROUND(CAST(cumulative_orders AS DOUBLE) /total_orders,4) AS cumulative_order_pct\n",
    "    ,   ROUND(CAST(cumulative_users AS DOUBLE) /total_users,4) AS cumulative_user_pct\n",
    "    \n",
    "    FROM ranked\n",
    "\n",
    "\"\"\"\n",
    "df_volume_pareto = con.execute(query).fetchdf()"
   ]
  },
  {
   "cell_type": "code",
   "execution_count": 85,
   "id": "914026f8",
   "metadata": {},
   "outputs": [
    {
     "data": {
      "text/html": [
       "<div>\n",
       "<style scoped>\n",
       "    .dataframe tbody tr th:only-of-type {\n",
       "        vertical-align: middle;\n",
       "    }\n",
       "\n",
       "    .dataframe tbody tr th {\n",
       "        vertical-align: top;\n",
       "    }\n",
       "\n",
       "    .dataframe thead th {\n",
       "        text-align: right;\n",
       "    }\n",
       "</style>\n",
       "<table border=\"1\" class=\"dataframe\">\n",
       "  <thead>\n",
       "    <tr style=\"text-align: right;\">\n",
       "      <th></th>\n",
       "      <th>product_id</th>\n",
       "      <th>product_name</th>\n",
       "      <th>total_order_count</th>\n",
       "      <th>total_orders</th>\n",
       "      <th>total_users</th>\n",
       "      <th>cumulative_orders</th>\n",
       "      <th>cumulative_users</th>\n",
       "      <th>cumulative_order_pct</th>\n",
       "      <th>cumulative_user_pct</th>\n",
       "    </tr>\n",
       "  </thead>\n",
       "  <tbody>\n",
       "    <tr>\n",
       "      <th>0</th>\n",
       "      <td>24852</td>\n",
       "      <td>Banana</td>\n",
       "      <td>472565</td>\n",
       "      <td>32434489.0</td>\n",
       "      <td>13307953.0</td>\n",
       "      <td>472565.0</td>\n",
       "      <td>73956.0</td>\n",
       "      <td>0.0146</td>\n",
       "      <td>0.0056</td>\n",
       "    </tr>\n",
       "    <tr>\n",
       "      <th>1</th>\n",
       "      <td>13176</td>\n",
       "      <td>Bag of Organic Bananas</td>\n",
       "      <td>379450</td>\n",
       "      <td>32434489.0</td>\n",
       "      <td>13307953.0</td>\n",
       "      <td>852015.0</td>\n",
       "      <td>137493.0</td>\n",
       "      <td>0.0263</td>\n",
       "      <td>0.0103</td>\n",
       "    </tr>\n",
       "    <tr>\n",
       "      <th>2</th>\n",
       "      <td>21137</td>\n",
       "      <td>Organic Strawberries</td>\n",
       "      <td>264683</td>\n",
       "      <td>32434489.0</td>\n",
       "      <td>13307953.0</td>\n",
       "      <td>1116698.0</td>\n",
       "      <td>196331.0</td>\n",
       "      <td>0.0344</td>\n",
       "      <td>0.0148</td>\n",
       "    </tr>\n",
       "    <tr>\n",
       "      <th>3</th>\n",
       "      <td>21903</td>\n",
       "      <td>Organic Baby Spinach</td>\n",
       "      <td>241921</td>\n",
       "      <td>32434489.0</td>\n",
       "      <td>13307953.0</td>\n",
       "      <td>1358619.0</td>\n",
       "      <td>251368.0</td>\n",
       "      <td>0.0419</td>\n",
       "      <td>0.0189</td>\n",
       "    </tr>\n",
       "    <tr>\n",
       "      <th>4</th>\n",
       "      <td>47626</td>\n",
       "      <td>Large Lemon</td>\n",
       "      <td>152657</td>\n",
       "      <td>32434489.0</td>\n",
       "      <td>13307953.0</td>\n",
       "      <td>1901675.0</td>\n",
       "      <td>297770.0</td>\n",
       "      <td>0.0586</td>\n",
       "      <td>0.0224</td>\n",
       "    </tr>\n",
       "    <tr>\n",
       "      <th>5</th>\n",
       "      <td>26209</td>\n",
       "      <td>Limes</td>\n",
       "      <td>140627</td>\n",
       "      <td>32434489.0</td>\n",
       "      <td>13307953.0</td>\n",
       "      <td>2185253.0</td>\n",
       "      <td>342629.0</td>\n",
       "      <td>0.0674</td>\n",
       "      <td>0.0257</td>\n",
       "    </tr>\n",
       "    <tr>\n",
       "      <th>6</th>\n",
       "      <td>47209</td>\n",
       "      <td>Organic Hass Avocado</td>\n",
       "      <td>213584</td>\n",
       "      <td>32434489.0</td>\n",
       "      <td>13307953.0</td>\n",
       "      <td>1572203.0</td>\n",
       "      <td>386082.0</td>\n",
       "      <td>0.0485</td>\n",
       "      <td>0.0290</td>\n",
       "    </tr>\n",
       "    <tr>\n",
       "      <th>7</th>\n",
       "      <td>16797</td>\n",
       "      <td>Strawberries</td>\n",
       "      <td>142951</td>\n",
       "      <td>32434489.0</td>\n",
       "      <td>13307953.0</td>\n",
       "      <td>2044626.0</td>\n",
       "      <td>429231.0</td>\n",
       "      <td>0.0630</td>\n",
       "      <td>0.0323</td>\n",
       "    </tr>\n",
       "    <tr>\n",
       "      <th>8</th>\n",
       "      <td>47766</td>\n",
       "      <td>Organic Avocado</td>\n",
       "      <td>176815</td>\n",
       "      <td>32434489.0</td>\n",
       "      <td>13307953.0</td>\n",
       "      <td>1749018.0</td>\n",
       "      <td>472002.0</td>\n",
       "      <td>0.0539</td>\n",
       "      <td>0.0355</td>\n",
       "    </tr>\n",
       "    <tr>\n",
       "      <th>9</th>\n",
       "      <td>39275</td>\n",
       "      <td>Organic Blueberries</td>\n",
       "      <td>100060</td>\n",
       "      <td>32434489.0</td>\n",
       "      <td>13307953.0</td>\n",
       "      <td>2888302.0</td>\n",
       "      <td>509140.0</td>\n",
       "      <td>0.0891</td>\n",
       "      <td>0.0383</td>\n",
       "    </tr>\n",
       "  </tbody>\n",
       "</table>\n",
       "</div>"
      ],
      "text/plain": [
       "   product_id            product_name  total_order_count  total_orders  \\\n",
       "0       24852                  Banana             472565    32434489.0   \n",
       "1       13176  Bag of Organic Bananas             379450    32434489.0   \n",
       "2       21137    Organic Strawberries             264683    32434489.0   \n",
       "3       21903    Organic Baby Spinach             241921    32434489.0   \n",
       "4       47626             Large Lemon             152657    32434489.0   \n",
       "5       26209                   Limes             140627    32434489.0   \n",
       "6       47209    Organic Hass Avocado             213584    32434489.0   \n",
       "7       16797            Strawberries             142951    32434489.0   \n",
       "8       47766         Organic Avocado             176815    32434489.0   \n",
       "9       39275     Organic Blueberries             100060    32434489.0   \n",
       "\n",
       "   total_users  cumulative_orders  cumulative_users  cumulative_order_pct  \\\n",
       "0   13307953.0           472565.0           73956.0                0.0146   \n",
       "1   13307953.0           852015.0          137493.0                0.0263   \n",
       "2   13307953.0          1116698.0          196331.0                0.0344   \n",
       "3   13307953.0          1358619.0          251368.0                0.0419   \n",
       "4   13307953.0          1901675.0          297770.0                0.0586   \n",
       "5   13307953.0          2185253.0          342629.0                0.0674   \n",
       "6   13307953.0          1572203.0          386082.0                0.0485   \n",
       "7   13307953.0          2044626.0          429231.0                0.0630   \n",
       "8   13307953.0          1749018.0          472002.0                0.0539   \n",
       "9   13307953.0          2888302.0          509140.0                0.0891   \n",
       "\n",
       "   cumulative_user_pct  \n",
       "0               0.0056  \n",
       "1               0.0103  \n",
       "2               0.0148  \n",
       "3               0.0189  \n",
       "4               0.0224  \n",
       "5               0.0257  \n",
       "6               0.0290  \n",
       "7               0.0323  \n",
       "8               0.0355  \n",
       "9               0.0383  "
      ]
     },
     "execution_count": 85,
     "metadata": {},
     "output_type": "execute_result"
    }
   ],
   "source": [
    "df_volume_pareto.head(10)"
   ]
  },
  {
   "cell_type": "markdown",
   "id": "6518fc60",
   "metadata": {},
   "source": [
    "#### Does ~20% of Instacart products account for ~80% of total orders?"
   ]
  },
  {
   "cell_type": "code",
   "execution_count": 87,
   "id": "76ac6d6b",
   "metadata": {},
   "outputs": [
    {
     "data": {
      "text/html": [
       "<div>\n",
       "<style scoped>\n",
       "    .dataframe tbody tr th:only-of-type {\n",
       "        vertical-align: middle;\n",
       "    }\n",
       "\n",
       "    .dataframe tbody tr th {\n",
       "        vertical-align: top;\n",
       "    }\n",
       "\n",
       "    .dataframe thead th {\n",
       "        text-align: right;\n",
       "    }\n",
       "</style>\n",
       "<table border=\"1\" class=\"dataframe\">\n",
       "  <thead>\n",
       "    <tr style=\"text-align: right;\">\n",
       "      <th></th>\n",
       "      <th>pareto_pct_products</th>\n",
       "    </tr>\n",
       "  </thead>\n",
       "  <tbody>\n",
       "    <tr>\n",
       "      <th>0</th>\n",
       "      <td>0.0913</td>\n",
       "    </tr>\n",
       "  </tbody>\n",
       "</table>\n",
       "</div>"
      ],
      "text/plain": [
       "   pareto_pct_products\n",
       "0               0.0913"
      ]
     },
     "execution_count": 87,
     "metadata": {},
     "output_type": "execute_result"
    }
   ],
   "source": [
    "con.execute(\"\"\"\n",
    "\n",
    "WITH pareto_order AS (\n",
    "    SELECT COUNT(*) as top_80_products\n",
    "    FROM (\n",
    "        SELECT * \n",
    "        FROM df_volume_pareto \n",
    "        WHERE cumulative_order_pct <= 0.8\n",
    "        )\n",
    "),\n",
    "\n",
    "total_order AS (\n",
    "    SELECT COUNT(*) as total_products\n",
    "    FROM df_volume_pareto\n",
    ")\n",
    "\n",
    "SELECT \n",
    "    ROUND(CAST(top_80_products AS DOUBLE) / CAST(total_products AS DOUBLE), 4) as pareto_pct_products\n",
    "FROM pareto_order, total_order\n",
    "    \n",
    "\n",
    "\n",
    "\"\"\").fetchdf()"
   ]
  },
  {
   "cell_type": "markdown",
   "id": "401cab3f",
   "metadata": {},
   "source": [
    "#### Are those best-selling products also the most widely adopted across users?"
   ]
  },
  {
   "cell_type": "code",
   "execution_count": 88,
   "id": "d39a405b",
   "metadata": {},
   "outputs": [
    {
     "data": {
      "text/html": [
       "<div>\n",
       "<style scoped>\n",
       "    .dataframe tbody tr th:only-of-type {\n",
       "        vertical-align: middle;\n",
       "    }\n",
       "\n",
       "    .dataframe tbody tr th {\n",
       "        vertical-align: top;\n",
       "    }\n",
       "\n",
       "    .dataframe thead th {\n",
       "        text-align: right;\n",
       "    }\n",
       "</style>\n",
       "<table border=\"1\" class=\"dataframe\">\n",
       "  <thead>\n",
       "    <tr style=\"text-align: right;\">\n",
       "      <th></th>\n",
       "      <th>top_product_user_coverage</th>\n",
       "    </tr>\n",
       "  </thead>\n",
       "  <tbody>\n",
       "    <tr>\n",
       "      <th>0</th>\n",
       "      <td>0.88</td>\n",
       "    </tr>\n",
       "  </tbody>\n",
       "</table>\n",
       "</div>"
      ],
      "text/plain": [
       "   top_product_user_coverage\n",
       "0                       0.88"
      ]
     },
     "execution_count": 88,
     "metadata": {},
     "output_type": "execute_result"
    }
   ],
   "source": [
    "con.execute(\"\"\"\n",
    "\n",
    "WITH base AS (\n",
    "    SELECT *\n",
    "    FROM df_volume_pareto \n",
    "    WHERE cumulative_order_pct <= 0.8\n",
    ")\n",
    "\n",
    "SELECT\n",
    "    MAX(cumulative_user_pct) as top_product_user_coverage\n",
    "FROM base\n",
    "\n",
    "\"\"\").fetchdf()"
   ]
  },
  {
   "cell_type": "markdown",
   "id": "0873a474",
   "metadata": {},
   "source": [
    "### Saving Top-performing Products' Name into a File for LLM Training"
   ]
  },
  {
   "cell_type": "code",
   "execution_count": 90,
   "id": "2187c4c1",
   "metadata": {},
   "outputs": [],
   "source": [
    "query = \"\"\"\n",
    "\n",
    "SELECT DISTINCT \n",
    "    product_name\n",
    "FROM df_volume_pareto\n",
    "WHERE cumulative_order_pct <= 0.8\n",
    "\n",
    "\"\"\"\n",
    "top_product_name = con.execute(query).fetchdf()\n",
    "\n",
    "# Saving it to a .txt file for LLM input\n",
    "\n",
    "top_product_name['product_name'].to_csv(\"/Users/leanhe/Desktop/Github/InstacartAnalysis/top_product_names.txt\", index=False, header=False)"
   ]
  },
  {
   "cell_type": "code",
   "execution_count": null,
   "id": "6cfadc2e",
   "metadata": {},
   "outputs": [],
   "source": []
  }
 ],
 "metadata": {
  "kernelspec": {
   "display_name": "Python 3",
   "language": "python",
   "name": "python3"
  },
  "language_info": {
   "codemirror_mode": {
    "name": "ipython",
    "version": 3
   },
   "file_extension": ".py",
   "mimetype": "text/x-python",
   "name": "python",
   "nbconvert_exporter": "python",
   "pygments_lexer": "ipython3",
   "version": "3.8.8"
  }
 },
 "nbformat": 4,
 "nbformat_minor": 5
}
